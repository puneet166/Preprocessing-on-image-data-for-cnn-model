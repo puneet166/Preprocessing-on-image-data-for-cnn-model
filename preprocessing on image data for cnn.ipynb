{
 "cells": [
  {
   "cell_type": "code",
   "execution_count": 15,
   "metadata": {},
   "outputs": [
    {
     "data": {
      "text/plain": [
       "['C:\\\\Users\\\\Puneet Singh\\\\Downloads\\\\111880_269359_bundle_archive\\\\seg_train\\\\seg_train\\\\buildings',\n",
       " 'C:\\\\Users\\\\Puneet Singh\\\\Downloads\\\\111880_269359_bundle_archive\\\\seg_train\\\\seg_train\\\\forest',\n",
       " 'C:\\\\Users\\\\Puneet Singh\\\\Downloads\\\\111880_269359_bundle_archive\\\\seg_train\\\\seg_train\\\\glacier',\n",
       " 'C:\\\\Users\\\\Puneet Singh\\\\Downloads\\\\111880_269359_bundle_archive\\\\seg_train\\\\seg_train\\\\mountain',\n",
       " 'C:\\\\Users\\\\Puneet Singh\\\\Downloads\\\\111880_269359_bundle_archive\\\\seg_train\\\\seg_train\\\\sea',\n",
       " 'C:\\\\Users\\\\Puneet Singh\\\\Downloads\\\\111880_269359_bundle_archive\\\\seg_train\\\\seg_train\\\\street']"
      ]
     },
     "execution_count": 15,
     "metadata": {},
     "output_type": "execute_result"
    }
   ],
   "source": [
    "import glob\n",
    "import numpy as np\n",
    "import pandas as pd \n",
    "glob.glob(r\"C:\\Users\\Puneet Singh\\Downloads\\111880_269359_bundle_archive\\seg_train\\seg_train\\*\")"
   ]
  },
  {
   "cell_type": "code",
   "execution_count": 16,
   "metadata": {},
   "outputs": [],
   "source": [
    "import tensorflow as tf\n",
    "from tensorflow.keras.preprocessing.image import load_img, img_to_array"
   ]
  },
  {
   "cell_type": "code",
   "execution_count": 17,
   "metadata": {},
   "outputs": [],
   "source": [
    "def prepare_dataset(path,label):\n",
    "    x_train=[]\n",
    "    y_train=[]\n",
    "    all_images_path=glob.glob(path+'/*.jpg') #only need to understand about it.Python Glob() Function To Match Path, Directory, File Names with Examples\n",
    "    for img_path in all_images_path :\n",
    "           img=load_img(img_path, target_size=(150,150)) # load the image from the file to programe with 150*150 pixels.\n",
    "            img=img_to_array(img) # here image convert into array\n",
    "            img=img/255.0 # here perform feature scaling becoz machine dont take lot of poweand time for matrix calculations..\n",
    "            x_train.append(img) # append array of images \n",
    "            y_train.append(label) #append labels\n",
    "    return np.array(x_train),np.array(y_train) # after perform preprocessing on images  whole images come in x train and label come ytrain. "
   ]
  },
  {
   "cell_type": "code",
   "execution_count": 18,
   "metadata": {},
   "outputs": [
    {
     "name": "stdout",
     "output_type": "stream",
     "text": [
      "['uildings']\n",
      "['uildings', 'orest']\n",
      "['uildings', 'orest', 'lacier']\n",
      "['uildings', 'orest', 'lacier', 'ountain']\n",
      "['uildings', 'orest', 'lacier', 'ountain', 'ea']\n",
      "['uildings', 'orest', 'lacier', 'ountain', 'ea', 'treet']\n"
     ]
    }
   ],
   "source": [
    "paths=glob.glob(r\"C:\\Users\\Puneet Singh\\Downloads\\111880_269359_bundle_archive\\seg_train\\seg_train\\*\")\n",
    "l=len(r\"C:\\Users\\Puneet Singh\\Downloads\\111880_269359_bundle_archive\\seg_train\\seg_train\\*\")\n",
    "labels=[]\n",
    "for path in paths:\n",
    "    labels.append(path[l:])\n",
    "    print(labels)"
   ]
  },
  {
   "cell_type": "code",
   "execution_count": 25,
   "metadata": {},
   "outputs": [
    {
     "name": "stdout",
     "output_type": "stream",
     "text": [
      "train building shape  (2191, 150, 150, 3) (2191,)\n",
      "train forest (2271, 150, 150, 3) (2271,)\n",
      "train glacier (2404, 150, 150, 3) (2404,)\n",
      "train mountain (2512, 150, 150, 3) (2512,)\n",
      "train sea (2274, 150, 150, 3) (2274,)\n",
      "train street (2382, 150, 150, 3) (2382,)\n"
     ]
    }
   ],
   "source": [
    "trainX_building, trainY_building  = prepare_dataset(r\"C:\\Users\\Puneet Singh\\Downloads\\111880_269359_bundle_archive\\seg_train\\seg_train\\buildings\",0)\n",
    "trainX_forest,trainY_forest  = prepare_dataset(r\"C:\\Users\\Puneet Singh\\Downloads\\111880_269359_bundle_archive\\seg_train\\seg_train\\forest\",1)\n",
    "trainX_glacier,trainY_glacier  = prepare_dataset(r\"C:\\Users\\Puneet Singh\\Downloads\\111880_269359_bundle_archive\\seg_train\\seg_train\\glacier\",2)\n",
    "trainX_mount,trainY_mount  = prepare_dataset(r\"C:\\Users\\Puneet Singh\\Downloads\\111880_269359_bundle_archive\\seg_train\\seg_train\\mountain\",3)\n",
    "trainX_sea,trainY_sea  = prepare_dataset(r\"C:\\Users\\Puneet Singh\\Downloads\\111880_269359_bundle_archive\\seg_train\\seg_train\\sea\",4)\n",
    "trainX_street,trainY_street  = prepare_dataset(r\"C:\\Users\\Puneet Singh\\Downloads\\111880_269359_bundle_archive\\seg_train\\seg_train\\street\",5)\n",
    "\n",
    "print('train building shape ', trainX_building.shape, trainY_building.shape) \n",
    "print('train forest', trainX_forest.shape ,trainY_forest.shape)\n",
    "print('train glacier', trainX_glacier.shape,trainY_glacier.shape)\n",
    "print('train mountain', trainX_mount.shape, trainY_mount.shape)\n",
    "print('train sea',     trainX_sea.shape, trainY_sea.shape)\n",
    "print('train street', trainX_street.shape ,trainY_street.shape)"
   ]
  },
  {
   "cell_type": "code",
   "execution_count": 26,
   "metadata": {},
   "outputs": [],
   "source": [
    "x_train=np.concatenate((trainX_building,trainX_forest,trainX_glacier,trainX_mount,trainX_sea,trainX_street),axis=0) # concatenation different different images dimesional into single\n",
    "y_train=np.concatenate((trainY_building,trainY_forest,trainY_glacier,trainY_mount,trainY_sea,trainY_street),axis=0) #same"
   ]
  },
  {
   "cell_type": "code",
   "execution_count": 27,
   "metadata": {},
   "outputs": [
    {
     "data": {
      "text/plain": [
       "(14034, 150, 150, 3)"
      ]
     },
     "execution_count": 27,
     "metadata": {},
     "output_type": "execute_result"
    }
   ],
   "source": [
    "x_train.shape #check shape 14032 images with 150*150*3 pixels"
   ]
  },
  {
   "cell_type": "code",
   "execution_count": 29,
   "metadata": {},
   "outputs": [
    {
     "data": {
      "text/plain": [
       "(14034,)"
      ]
     },
     "execution_count": 29,
     "metadata": {},
     "output_type": "execute_result"
    }
   ],
   "source": [
    "y_train.shape #same"
   ]
  },
  {
   "cell_type": "code",
   "execution_count": null,
   "metadata": {},
   "outputs": [],
   "source": []
  },
  {
   "cell_type": "code",
   "execution_count": null,
   "metadata": {},
   "outputs": [],
   "source": []
  },
  {
   "cell_type": "code",
   "execution_count": null,
   "metadata": {},
   "outputs": [],
   "source": []
  },
  {
   "cell_type": "code",
   "execution_count": null,
   "metadata": {},
   "outputs": [],
   "source": []
  },
  {
   "cell_type": "code",
   "execution_count": null,
   "metadata": {},
   "outputs": [],
   "source": []
  }
 ],
 "metadata": {
  "kernelspec": {
   "display_name": "Python 3",
   "language": "python",
   "name": "python3"
  },
  "language_info": {
   "codemirror_mode": {
    "name": "ipython",
    "version": 3
   },
   "file_extension": ".py",
   "mimetype": "text/x-python",
   "name": "python",
   "nbconvert_exporter": "python",
   "pygments_lexer": "ipython3",
   "version": "3.7.3"
  }
 },
 "nbformat": 4,
 "nbformat_minor": 2
}
